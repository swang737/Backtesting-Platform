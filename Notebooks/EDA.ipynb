{
 "cells": [
  {
   "cell_type": "code",
   "execution_count": 7,
   "id": "ac7a94f6-11b4-478c-96e6-7af72accc429",
   "metadata": {},
   "outputs": [],
   "source": [
    "import numpy as np\n",
    "import pandas as pd\n",
    "from matplotlib.pyplot import subplots\n",
    "from DataLoader import DataLoader\n",
    "from statsmodels.tsa.stattools import acf\n",
    "import math"
   ]
  },
  {
   "cell_type": "code",
   "execution_count": 214,
   "id": "6e7d7bae-1ff8-44b8-a204-49f818f0d074",
   "metadata": {},
   "outputs": [],
   "source": [
    "class EDA:\n",
    "    def __init__(self, DataLoader):\n",
    "        self.loader = DataLoader\n",
    "\n",
    "    def getACF(self, graph = True, lag = 20, ncols = 3, conf = True):\n",
    "        '''\n",
    "        returns the ACFs of all stocks at this timestep for the last 20 lags and graphs all of them.\n",
    "        '''\n",
    "        # error handling\n",
    "        if lag < 1 or isinstance(lag, int) == False:\n",
    "            raise ValueError('lag must be integer greater than 1')\n",
    "\n",
    "        # get data and making acfs array\n",
    "        data = self.loader.returnsToNow() # all returns of required stocks for last lags + today\n",
    "        acfs = []\n",
    "\n",
    "        if graph:\n",
    "            ncols = max(1, int(ncols))\n",
    "            nrows = math.ceil(self.loader.nins / ncols)\n",
    "            fig, axes = subplots(nrows, ncols, figsize = (4 * ncols, 3 * nrows), sharex = True, sharey = True) # same x/y axis\n",
    "            axes = np.atleast_1d(axes).ravel() # atleast_1d --> if its 1d it makes it 2d by chucking brackets around it\n",
    "            # ravel so can go axes[i] and put them one by one\n",
    "\n",
    "        for i in range(self.loader.nins):\n",
    "            stock = data[:, i] # stock data for one stock\n",
    "\n",
    "            # getting acfs and confidence intervals\n",
    "            acf_vals, conf_int = acf(stock, nlags = lag, fft=False, missing='conservative', alpha = 0.05) # dont take shortcut and take out NAs\n",
    "            acfs.append(acf_vals)\n",
    "\n",
    "            if graph:\n",
    "                ax = axes[i]\n",
    "                ax.axhline(0, c = 'k', lw = 0.5)\n",
    "                ax.bar(np.arange(lag + 1), acf_vals, width = 0.3, align = 'center') # align puts it at the lag (center)\n",
    "                ax.plot(acf_vals, lw = 0.5, c = 'r')\n",
    "                if conf:\n",
    "                    bound = 1.96 / np.sqrt(len(stock))\n",
    "                    ax.fill_between(np.arange(lag + 1), -bound, bound, alpha = 0.1, color = 'm')\n",
    "                ax.set_title(f'Stock {self.loader.stocks[i]}')\n",
    "                ax.set_xlabel('Lags')\n",
    "                ax.set_ylabel('ACF')\n",
    "                ax.set_xlim(0, lag)\n",
    "        if graph:\n",
    "            for j in range(self.loader.nins, len(axes)):\n",
    "                fig.delaxes(axes[j]) # removes the axes that weren't used\n",
    "            fig.tight_layout() # adjust so titles dont collide and squeeze shit in\n",
    "            \n",
    "            return np.vstack(acfs)"
   ]
  }
 ],
 "metadata": {
  "kernelspec": {
   "display_name": "Python 3 (ipykernel)",
   "language": "python",
   "name": "python3"
  },
  "language_info": {
   "codemirror_mode": {
    "name": "ipython",
    "version": 3
   },
   "file_extension": ".py",
   "mimetype": "text/x-python",
   "name": "python",
   "nbconvert_exporter": "python",
   "pygments_lexer": "ipython3",
   "version": "3.12.7"
  }
 },
 "nbformat": 4,
 "nbformat_minor": 5
}
